{
 "cells": [
  {
   "cell_type": "code",
   "execution_count": 1,
   "metadata": {},
   "outputs": [
    {
     "data": {
      "text/html": [
       "<div>\n",
       "<style scoped>\n",
       "    .dataframe tbody tr th:only-of-type {\n",
       "        vertical-align: middle;\n",
       "    }\n",
       "\n",
       "    .dataframe tbody tr th {\n",
       "        vertical-align: top;\n",
       "    }\n",
       "\n",
       "    .dataframe thead th {\n",
       "        text-align: right;\n",
       "    }\n",
       "</style>\n",
       "<table border=\"1\" class=\"dataframe\">\n",
       "  <thead>\n",
       "    <tr style=\"text-align: right;\">\n",
       "      <th></th>\n",
       "      <th>Sentence #</th>\n",
       "      <th>Word</th>\n",
       "      <th>POS</th>\n",
       "      <th>Tag</th>\n",
       "    </tr>\n",
       "  </thead>\n",
       "  <tbody>\n",
       "    <tr>\n",
       "      <th>0</th>\n",
       "      <td>Sentence: 1</td>\n",
       "      <td>Thousands</td>\n",
       "      <td>NNS</td>\n",
       "      <td>O</td>\n",
       "    </tr>\n",
       "    <tr>\n",
       "      <th>1</th>\n",
       "      <td>NaN</td>\n",
       "      <td>of</td>\n",
       "      <td>IN</td>\n",
       "      <td>O</td>\n",
       "    </tr>\n",
       "    <tr>\n",
       "      <th>2</th>\n",
       "      <td>NaN</td>\n",
       "      <td>demonstrators</td>\n",
       "      <td>NNS</td>\n",
       "      <td>O</td>\n",
       "    </tr>\n",
       "    <tr>\n",
       "      <th>3</th>\n",
       "      <td>NaN</td>\n",
       "      <td>have</td>\n",
       "      <td>VBP</td>\n",
       "      <td>O</td>\n",
       "    </tr>\n",
       "    <tr>\n",
       "      <th>4</th>\n",
       "      <td>NaN</td>\n",
       "      <td>marched</td>\n",
       "      <td>VBN</td>\n",
       "      <td>O</td>\n",
       "    </tr>\n",
       "  </tbody>\n",
       "</table>\n",
       "</div>"
      ],
      "text/plain": [
       "    Sentence #           Word  POS Tag\n",
       "0  Sentence: 1      Thousands  NNS   O\n",
       "1          NaN             of   IN   O\n",
       "2          NaN  demonstrators  NNS   O\n",
       "3          NaN           have  VBP   O\n",
       "4          NaN        marched  VBN   O"
      ]
     },
     "execution_count": 1,
     "metadata": {},
     "output_type": "execute_result"
    }
   ],
   "source": [
    "from gensim.models import FastText\n",
    "import pandas as pd\n",
    "\n",
    "data = pd.read_csv('ner_datasetreference.csv',encoding = 'unicode_escape')\n",
    "data.head()"
   ]
  },
  {
   "cell_type": "code",
   "execution_count": 2,
   "metadata": {},
   "outputs": [
    {
     "data": {
      "text/plain": [
       "Sentence #      47959\n",
       "Word          1048565\n",
       "POS           1048575\n",
       "Tag           1048575\n",
       "dtype: int64"
      ]
     },
     "execution_count": 2,
     "metadata": {},
     "output_type": "execute_result"
    }
   ],
   "source": [
    "data.count()"
   ]
  },
  {
   "cell_type": "code",
   "execution_count": 3,
   "metadata": {},
   "outputs": [
    {
     "name": "stdout",
     "output_type": "stream",
     "text": [
      "number of tags: 17\n"
     ]
    },
    {
     "data": {
      "text/plain": [
       "Tag\n",
       "O        887908\n",
       "B-geo     37644\n",
       "B-tim     20333\n",
       "B-org     20143\n",
       "I-per     17251\n",
       "B-per     16990\n",
       "I-org     16784\n",
       "B-gpe     15870\n",
       "I-geo      7414\n",
       "I-tim      6528\n",
       "B-art       402\n",
       "B-eve       308\n",
       "I-art       297\n",
       "I-eve       253\n",
       "B-nat       201\n",
       "I-gpe       198\n",
       "I-nat        51\n",
       "Name: count, dtype: int64"
      ]
     },
     "execution_count": 3,
     "metadata": {},
     "output_type": "execute_result"
    }
   ],
   "source": [
    "print('number of tags: {}'.format(len(data.Tag.unique())))\n",
    "freq = data.Tag.value_counts()\n",
    "freq"
   ]
  },
  {
   "cell_type": "code",
   "execution_count": 4,
   "metadata": {},
   "outputs": [
    {
     "name": "stderr",
     "output_type": "stream",
     "text": [
      "C:\\Users\\game_\\AppData\\Local\\Temp\\ipykernel_27036\\3828534944.py:2: FutureWarning: DataFrame.fillna with 'method' is deprecated and will raise in a future version. Use obj.ffill() or obj.bfill() instead.\n",
      "  data = data.fillna(method = 'ffill')\n"
     ]
    },
    {
     "data": {
      "text/html": [
       "<div>\n",
       "<style scoped>\n",
       "    .dataframe tbody tr th:only-of-type {\n",
       "        vertical-align: middle;\n",
       "    }\n",
       "\n",
       "    .dataframe tbody tr th {\n",
       "        vertical-align: top;\n",
       "    }\n",
       "\n",
       "    .dataframe thead th {\n",
       "        text-align: right;\n",
       "    }\n",
       "</style>\n",
       "<table border=\"1\" class=\"dataframe\">\n",
       "  <thead>\n",
       "    <tr style=\"text-align: right;\">\n",
       "      <th></th>\n",
       "      <th>Sentence #</th>\n",
       "      <th>Word</th>\n",
       "      <th>POS</th>\n",
       "      <th>Tag</th>\n",
       "    </tr>\n",
       "  </thead>\n",
       "  <tbody>\n",
       "    <tr>\n",
       "      <th>0</th>\n",
       "      <td>0</td>\n",
       "      <td>Thousands</td>\n",
       "      <td>NNS</td>\n",
       "      <td>O</td>\n",
       "    </tr>\n",
       "    <tr>\n",
       "      <th>1</th>\n",
       "      <td>0</td>\n",
       "      <td>of</td>\n",
       "      <td>IN</td>\n",
       "      <td>O</td>\n",
       "    </tr>\n",
       "    <tr>\n",
       "      <th>2</th>\n",
       "      <td>0</td>\n",
       "      <td>demonstrators</td>\n",
       "      <td>NNS</td>\n",
       "      <td>O</td>\n",
       "    </tr>\n",
       "    <tr>\n",
       "      <th>3</th>\n",
       "      <td>0</td>\n",
       "      <td>have</td>\n",
       "      <td>VBP</td>\n",
       "      <td>O</td>\n",
       "    </tr>\n",
       "    <tr>\n",
       "      <th>4</th>\n",
       "      <td>0</td>\n",
       "      <td>marched</td>\n",
       "      <td>VBN</td>\n",
       "      <td>O</td>\n",
       "    </tr>\n",
       "  </tbody>\n",
       "</table>\n",
       "</div>"
      ],
      "text/plain": [
       "   Sentence #           Word  POS Tag\n",
       "0           0      Thousands  NNS   O\n",
       "1           0             of   IN   O\n",
       "2           0  demonstrators  NNS   O\n",
       "3           0           have  VBP   O\n",
       "4           0        marched  VBN   O"
      ]
     },
     "execution_count": 4,
     "metadata": {},
     "output_type": "execute_result"
    }
   ],
   "source": [
    "from sklearn.preprocessing import LabelEncoder\n",
    "data = data.fillna(method = 'ffill')\n",
    "data['Sentence #'] = LabelEncoder().fit_transform(data['Sentence #'])\n",
    "data.head()"
   ]
  },
  {
   "cell_type": "code",
   "execution_count": 5,
   "metadata": {},
   "outputs": [],
   "source": [
    "data['Tag'] = data['Tag'].str.upper()\n",
    "data['Word'] = data['Word'].str.lower()\n",
    "X = data[['Sentence #','Word']]\n",
    "y = data['Tag']"
   ]
  },
  {
   "cell_type": "code",
   "execution_count": 6,
   "metadata": {},
   "outputs": [],
   "source": [
    "y = LabelEncoder().fit_transform(y)"
   ]
  },
  {
   "cell_type": "code",
   "execution_count": 7,
   "metadata": {},
   "outputs": [
    {
     "data": {
      "text/plain": [
       "array([16, 16, 16, ..., 16, 16, 16])"
      ]
     },
     "execution_count": 7,
     "metadata": {},
     "output_type": "execute_result"
    }
   ],
   "source": [
    "y"
   ]
  },
  {
   "cell_type": "code",
   "execution_count": 8,
   "metadata": {},
   "outputs": [],
   "source": [
    "X = [[] for _ in data['Sentence #'].unique()]\n",
    "for sen,word in data[['Sentence #','Word']].iloc:\n",
    "    X[sen].append(word)\n"
   ]
  },
  {
   "cell_type": "code",
   "execution_count": 9,
   "metadata": {},
   "outputs": [
    {
     "data": {
      "text/plain": [
       "['thousands',\n",
       " 'of',\n",
       " 'demonstrators',\n",
       " 'have',\n",
       " 'marched',\n",
       " 'through',\n",
       " 'london',\n",
       " 'to',\n",
       " 'protest',\n",
       " 'the',\n",
       " 'war',\n",
       " 'in',\n",
       " 'iraq',\n",
       " 'and',\n",
       " 'demand',\n",
       " 'the',\n",
       " 'withdrawal',\n",
       " 'of',\n",
       " 'british',\n",
       " 'troops',\n",
       " 'from',\n",
       " 'that',\n",
       " 'country',\n",
       " '.']"
      ]
     },
     "execution_count": 9,
     "metadata": {},
     "output_type": "execute_result"
    }
   ],
   "source": [
    "X[0]"
   ]
  },
  {
   "cell_type": "code",
   "execution_count": 10,
   "metadata": {},
   "outputs": [],
   "source": [
    "model_ft = FastText(X)"
   ]
  },
  {
   "cell_type": "code",
   "execution_count": 11,
   "metadata": {},
   "outputs": [
    {
     "data": {
      "text/plain": [
       "[('34-day', 0.9737409949302673),\n",
       " ('11-day', 0.9718878269195557),\n",
       " ('10-day', 0.9690268635749817),\n",
       " ('monday', 0.9658756852149963),\n",
       " ('sunday', 0.958530604839325),\n",
       " ('wednesday', 0.956044614315033),\n",
       " ('friday', 0.953147292137146),\n",
       " ('saturday', 0.9474976658821106),\n",
       " ('thursday', 0.9452310800552368),\n",
       " ('one-day', 0.940643846988678),\n",
       " ('tuesday', 0.9387921690940857),\n",
       " ('six-day', 0.936676025390625),\n",
       " ('midday', 0.9352594017982483),\n",
       " ('two-day', 0.9267303347587585),\n",
       " ('four-day', 0.9236775040626526),\n",
       " ('day', 0.9192639589309692),\n",
       " ('five-day', 0.9171529412269592),\n",
       " ('holiday', 0.9160709977149963),\n",
       " ('yesterday', 0.8945143222808838),\n",
       " ('birthday', 0.871319055557251)]"
      ]
     },
     "execution_count": 11,
     "metadata": {},
     "output_type": "execute_result"
    }
   ],
   "source": [
    "model_ft.wv.most_similar(positive=['today'], topn=20)"
   ]
  },
  {
   "cell_type": "code",
   "execution_count": 12,
   "metadata": {},
   "outputs": [
    {
     "data": {
      "text/plain": [
       "12"
      ]
     },
     "execution_count": 12,
     "metadata": {},
     "output_type": "execute_result"
    }
   ],
   "source": [
    "adfs = {'hue': 1,'sue':12}\n",
    "all_words = sorted(list(adfs.keys()))\n",
    "adfs[all_words[1]]"
   ]
  },
  {
   "cell_type": "code",
   "execution_count": 13,
   "metadata": {},
   "outputs": [
    {
     "data": {
      "text/html": [
       "<div>\n",
       "<style scoped>\n",
       "    .dataframe tbody tr th:only-of-type {\n",
       "        vertical-align: middle;\n",
       "    }\n",
       "\n",
       "    .dataframe tbody tr th {\n",
       "        vertical-align: top;\n",
       "    }\n",
       "\n",
       "    .dataframe thead th {\n",
       "        text-align: right;\n",
       "    }\n",
       "</style>\n",
       "<table border=\"1\" class=\"dataframe\">\n",
       "  <thead>\n",
       "    <tr style=\"text-align: right;\">\n",
       "      <th></th>\n",
       "      <th>Sentence #</th>\n",
       "      <th>Word</th>\n",
       "      <th>POS</th>\n",
       "      <th>Tag</th>\n",
       "    </tr>\n",
       "  </thead>\n",
       "  <tbody>\n",
       "    <tr>\n",
       "      <th>0</th>\n",
       "      <td>0</td>\n",
       "      <td>thousands</td>\n",
       "      <td>NNS</td>\n",
       "      <td>O</td>\n",
       "    </tr>\n",
       "    <tr>\n",
       "      <th>1</th>\n",
       "      <td>0</td>\n",
       "      <td>of</td>\n",
       "      <td>IN</td>\n",
       "      <td>O</td>\n",
       "    </tr>\n",
       "    <tr>\n",
       "      <th>2</th>\n",
       "      <td>0</td>\n",
       "      <td>demonstrators</td>\n",
       "      <td>NNS</td>\n",
       "      <td>O</td>\n",
       "    </tr>\n",
       "    <tr>\n",
       "      <th>3</th>\n",
       "      <td>0</td>\n",
       "      <td>have</td>\n",
       "      <td>VBP</td>\n",
       "      <td>O</td>\n",
       "    </tr>\n",
       "    <tr>\n",
       "      <th>4</th>\n",
       "      <td>0</td>\n",
       "      <td>marched</td>\n",
       "      <td>VBN</td>\n",
       "      <td>O</td>\n",
       "    </tr>\n",
       "    <tr>\n",
       "      <th>...</th>\n",
       "      <td>...</td>\n",
       "      <td>...</td>\n",
       "      <td>...</td>\n",
       "      <td>...</td>\n",
       "    </tr>\n",
       "    <tr>\n",
       "      <th>1048570</th>\n",
       "      <td>42177</td>\n",
       "      <td>they</td>\n",
       "      <td>PRP</td>\n",
       "      <td>O</td>\n",
       "    </tr>\n",
       "    <tr>\n",
       "      <th>1048571</th>\n",
       "      <td>42177</td>\n",
       "      <td>responded</td>\n",
       "      <td>VBD</td>\n",
       "      <td>O</td>\n",
       "    </tr>\n",
       "    <tr>\n",
       "      <th>1048572</th>\n",
       "      <td>42177</td>\n",
       "      <td>to</td>\n",
       "      <td>TO</td>\n",
       "      <td>O</td>\n",
       "    </tr>\n",
       "    <tr>\n",
       "      <th>1048573</th>\n",
       "      <td>42177</td>\n",
       "      <td>the</td>\n",
       "      <td>DT</td>\n",
       "      <td>O</td>\n",
       "    </tr>\n",
       "    <tr>\n",
       "      <th>1048574</th>\n",
       "      <td>42177</td>\n",
       "      <td>attack</td>\n",
       "      <td>NN</td>\n",
       "      <td>O</td>\n",
       "    </tr>\n",
       "  </tbody>\n",
       "</table>\n",
       "<p>1048575 rows × 4 columns</p>\n",
       "</div>"
      ],
      "text/plain": [
       "         Sentence #           Word  POS Tag\n",
       "0                 0      thousands  NNS   O\n",
       "1                 0             of   IN   O\n",
       "2                 0  demonstrators  NNS   O\n",
       "3                 0           have  VBP   O\n",
       "4                 0        marched  VBN   O\n",
       "...             ...            ...  ...  ..\n",
       "1048570       42177           they  PRP   O\n",
       "1048571       42177      responded  VBD   O\n",
       "1048572       42177             to   TO   O\n",
       "1048573       42177            the   DT   O\n",
       "1048574       42177         attack   NN   O\n",
       "\n",
       "[1048575 rows x 4 columns]"
      ]
     },
     "execution_count": 13,
     "metadata": {},
     "output_type": "execute_result"
    }
   ],
   "source": [
    "data"
   ]
  },
  {
   "cell_type": "code",
   "execution_count": 14,
   "metadata": {},
   "outputs": [
    {
     "data": {
      "text/html": [
       "<div>\n",
       "<style scoped>\n",
       "    .dataframe tbody tr th:only-of-type {\n",
       "        vertical-align: middle;\n",
       "    }\n",
       "\n",
       "    .dataframe tbody tr th {\n",
       "        vertical-align: top;\n",
       "    }\n",
       "\n",
       "    .dataframe thead th {\n",
       "        text-align: right;\n",
       "    }\n",
       "</style>\n",
       "<table border=\"1\" class=\"dataframe\">\n",
       "  <thead>\n",
       "    <tr style=\"text-align: right;\">\n",
       "      <th></th>\n",
       "      <th>Word</th>\n",
       "      <th>Tag</th>\n",
       "    </tr>\n",
       "    <tr>\n",
       "      <th>Sentence #</th>\n",
       "      <th></th>\n",
       "      <th></th>\n",
       "    </tr>\n",
       "  </thead>\n",
       "  <tbody>\n",
       "    <tr>\n",
       "      <th>0</th>\n",
       "      <td>[thousands, of, demonstrators, have, marched, ...</td>\n",
       "      <td>[O, O, O, O, O, O, B-GEO, O, O, O, O, O, B-GEO...</td>\n",
       "    </tr>\n",
       "    <tr>\n",
       "      <th>1</th>\n",
       "      <td>[iranian, officials, say, they, expect, to, ge...</td>\n",
       "      <td>[B-GPE, O, O, O, O, O, O, O, O, O, O, O, O, O,...</td>\n",
       "    </tr>\n",
       "    <tr>\n",
       "      <th>2</th>\n",
       "      <td>[helicopter, gunships, saturday, pounded, mili...</td>\n",
       "      <td>[O, O, B-TIM, O, O, O, O, O, B-GEO, O, O, O, O...</td>\n",
       "    </tr>\n",
       "    <tr>\n",
       "      <th>3</th>\n",
       "      <td>[they, left, after, a, tense, hour-long, stand...</td>\n",
       "      <td>[O, O, O, O, O, O, O, O, O, O, O]</td>\n",
       "    </tr>\n",
       "    <tr>\n",
       "      <th>4</th>\n",
       "      <td>[u.n., relief, coordinator, jan, egeland, said...</td>\n",
       "      <td>[B-GEO, O, O, B-PER, I-PER, O, B-TIM, O, B-GEO...</td>\n",
       "    </tr>\n",
       "    <tr>\n",
       "      <th>...</th>\n",
       "      <td>...</td>\n",
       "      <td>...</td>\n",
       "    </tr>\n",
       "    <tr>\n",
       "      <th>47954</th>\n",
       "      <td>[opposition, leader, mir, hossein, mousavi, ha...</td>\n",
       "      <td>[O, O, O, B-PER, I-PER, O, O, O, O, O, O, O, O...</td>\n",
       "    </tr>\n",
       "    <tr>\n",
       "      <th>47955</th>\n",
       "      <td>[on, thursday, ,, iranian, state, media, publi...</td>\n",
       "      <td>[O, B-TIM, O, B-GPE, O, O, O, O, O, O, O, O, B...</td>\n",
       "    </tr>\n",
       "    <tr>\n",
       "      <th>47956</th>\n",
       "      <td>[following, iran, 's, disputed, june, 12, elec...</td>\n",
       "      <td>[O, B-GEO, O, O, B-TIM, I-TIM, O, O, O, O, O, ...</td>\n",
       "    </tr>\n",
       "    <tr>\n",
       "      <th>47957</th>\n",
       "      <td>[since, then, ,, authorities, have, held, publ...</td>\n",
       "      <td>[O, O, O, O, O, O, O, O, O, O, O, O, O, O, O, ...</td>\n",
       "    </tr>\n",
       "    <tr>\n",
       "      <th>47958</th>\n",
       "      <td>[the, united, nations, is, praising, the, use,...</td>\n",
       "      <td>[O, B-ORG, I-ORG, O, O, O, O, O, O, O, O, O, O...</td>\n",
       "    </tr>\n",
       "  </tbody>\n",
       "</table>\n",
       "<p>47959 rows × 2 columns</p>\n",
       "</div>"
      ],
      "text/plain": [
       "                                                         Word  \\\n",
       "Sentence #                                                      \n",
       "0           [thousands, of, demonstrators, have, marched, ...   \n",
       "1           [iranian, officials, say, they, expect, to, ge...   \n",
       "2           [helicopter, gunships, saturday, pounded, mili...   \n",
       "3           [they, left, after, a, tense, hour-long, stand...   \n",
       "4           [u.n., relief, coordinator, jan, egeland, said...   \n",
       "...                                                       ...   \n",
       "47954       [opposition, leader, mir, hossein, mousavi, ha...   \n",
       "47955       [on, thursday, ,, iranian, state, media, publi...   \n",
       "47956       [following, iran, 's, disputed, june, 12, elec...   \n",
       "47957       [since, then, ,, authorities, have, held, publ...   \n",
       "47958       [the, united, nations, is, praising, the, use,...   \n",
       "\n",
       "                                                          Tag  \n",
       "Sentence #                                                     \n",
       "0           [O, O, O, O, O, O, B-GEO, O, O, O, O, O, B-GEO...  \n",
       "1           [B-GPE, O, O, O, O, O, O, O, O, O, O, O, O, O,...  \n",
       "2           [O, O, B-TIM, O, O, O, O, O, B-GEO, O, O, O, O...  \n",
       "3                           [O, O, O, O, O, O, O, O, O, O, O]  \n",
       "4           [B-GEO, O, O, B-PER, I-PER, O, B-TIM, O, B-GEO...  \n",
       "...                                                       ...  \n",
       "47954       [O, O, O, B-PER, I-PER, O, O, O, O, O, O, O, O...  \n",
       "47955       [O, B-TIM, O, B-GPE, O, O, O, O, O, O, O, O, B...  \n",
       "47956       [O, B-GEO, O, O, B-TIM, I-TIM, O, O, O, O, O, ...  \n",
       "47957       [O, O, O, O, O, O, O, O, O, O, O, O, O, O, O, ...  \n",
       "47958       [O, B-ORG, I-ORG, O, O, O, O, O, O, O, O, O, O...  \n",
       "\n",
       "[47959 rows x 2 columns]"
      ]
     },
     "execution_count": 14,
     "metadata": {},
     "output_type": "execute_result"
    }
   ],
   "source": [
    "data.groupby('Sentence #').agg({'Word': list,'Tag': list})"
   ]
  },
  {
   "cell_type": "code",
   "execution_count": 186,
   "metadata": {},
   "outputs": [],
   "source": [
    "#data preprocesing\n",
    "import numpy as np\n",
    "\n",
    "class Dataset():\n",
    "    def __init__(self,dataset:pd.DataFrame,model):\n",
    "        self.batch = 32\n",
    "\n",
    "        self.sentences = dataset['Sentence #'].unique()\n",
    "        self.words = data.groupby('Sentence #')['Word'].agg(list)\n",
    "        self.labels = data.groupby('Sentence #')['Tag'].agg(list)\n",
    "        self.word_vectors = model.wv\n",
    "        self.vector_size = self.word_vectors[0].shape[0] \n",
    "\n",
    "        self.classes = dataset['Tag'].unique()\n",
    "        self.reclass = dict(zip(self.classes,range(1,self.classes.shape[0]+1)))\n",
    "        self.max_words_cnt = np.max(self.words.apply(lambda x:len(x)))\n",
    "        self.model = model\n",
    "    def __getitem__(self,idx):\n",
    "        data_train = np.zeros((self.batch,self.max_words_cnt,self.vector_size),dtype=np.float32)\n",
    "        mask = np.zeros((self.batch,self.max_words_cnt),dtype=bool)\n",
    "        data_label = np.zeros((self.batch,self.max_words_cnt))\n",
    "\n",
    "        rg = range(self.batch*idx,self.batch*(idx+1))\n",
    "    \n",
    "\n",
    "\n",
    "\n",
    "        word2vec = self.words[rg].apply(lambda x:self.model.wv[x]).to_numpy()\n",
    " \n",
    "        # print(len(self.words[33]))\n",
    "        \n",
    "        for i,word_cnt in enumerate(self.words[rg].apply(lambda x:len(x)).to_numpy()):\n",
    "            data_train[i,0:word_cnt,:self.vector_size] = word2vec[i]\n",
    "            \n",
    "\n",
    "\n",
    "            mask[i,0:word_cnt] = True\n",
    "            \n",
    "            # print(word_cnt)\n",
    "            # print(len(self.labels[i]),len(self.words[i]))\n",
    "\n",
    "            data_label[i,0:word_cnt] = list(map(lambda x: self.reclass[x],self.labels[i+self.batch*idx])) \n",
    "            \n",
    "            # for ii,jj in enumerate(smth):\n",
    "            #     data_label[i,ii,jj] = 1.0\n",
    "\n",
    "            \n",
    "        \n",
    "        return data_train,mask,data_label\n",
    "    def __len__(self):\n",
    "        return self.sentences.shape[0]//self.batch\n",
    "\n",
    "\n",
    "\n",
    "        \n",
    "\n",
    "\n",
    "dataset = Dataset(data,model_ft)"
   ]
  },
  {
   "cell_type": "code",
   "execution_count": 166,
   "metadata": {},
   "outputs": [
    {
     "data": {
      "text/plain": [
       "['O',\n",
       " 'O',\n",
       " 'O',\n",
       " 'O',\n",
       " 'O',\n",
       " 'O',\n",
       " 'B-GEO',\n",
       " 'O',\n",
       " 'O',\n",
       " 'O',\n",
       " 'O',\n",
       " 'O',\n",
       " 'B-GEO',\n",
       " 'O',\n",
       " 'O',\n",
       " 'O',\n",
       " 'O',\n",
       " 'O',\n",
       " 'B-GPE',\n",
       " 'O',\n",
       " 'O',\n",
       " 'O',\n",
       " 'O',\n",
       " 'O']"
      ]
     },
     "execution_count": 166,
     "metadata": {},
     "output_type": "execute_result"
    }
   ],
   "source": [
    "dataset.labels[0]"
   ]
  },
  {
   "cell_type": "code",
   "execution_count": 187,
   "metadata": {},
   "outputs": [
    {
     "data": {
      "text/plain": [
       "1.0"
      ]
     },
     "execution_count": 187,
     "metadata": {},
     "output_type": "execute_result"
    }
   ],
   "source": [
    "dataset[0][2][0,0]"
   ]
  },
  {
   "cell_type": "code",
   "execution_count": 169,
   "metadata": {},
   "outputs": [
    {
     "data": {
      "text/plain": [
       "17"
      ]
     },
     "execution_count": 169,
     "metadata": {},
     "output_type": "execute_result"
    }
   ],
   "source": [
    "dataset.classes.shape[0]"
   ]
  },
  {
   "cell_type": "code",
   "execution_count": 188,
   "metadata": {},
   "outputs": [],
   "source": [
    "import torch\n",
    "from torch import nn\n",
    "from torch import optim\n",
    "\n",
    "class NERModel(nn.Module):\n",
    "    def __init__(self, embedding_dim, hidden_dim, output_dim):\n",
    "        super().__init__()\n",
    "        \n",
    "        self.lstm = nn.LSTM(embedding_dim, hidden_dim, batch_first=True)\n",
    "        self.fc = nn.Linear(hidden_dim, output_dim)\n",
    "    \n",
    "    def forward(self, x):\n",
    "        output, _ = self.lstm(x)\n",
    "        output = self.fc(output)\n",
    "        return output\n",
    "    \n",
    "\n",
    "EMBEDDING_DIM = 100\n",
    "HIDDEN_DIM = 100\n",
    "LEARNING_RATE = 0.1\n",
    "EPOCHS = 10\n",
    "\n",
    "model = NERModel(EMBEDDING_DIM, HIDDEN_DIM, dataset.classes.shape[0]+1)\n",
    "\n",
    "criterion = nn.CrossEntropyLoss()\n",
    "optimizer = optim.Adam(model.parameters(), lr=0.001)\n",
    "\n",
    "train_size = int(len(dataset)*0.8)"
   ]
  },
  {
   "cell_type": "code",
   "execution_count": 19,
   "metadata": {},
   "outputs": [
    {
     "data": {
      "text/plain": [
       "1198"
      ]
     },
     "execution_count": 19,
     "metadata": {},
     "output_type": "execute_result"
    }
   ],
   "source": [
    "train_size"
   ]
  },
  {
   "cell_type": "code",
   "execution_count": 191,
   "metadata": {},
   "outputs": [
    {
     "name": "stdout",
     "output_type": "stream",
     "text": [
      "Epoch 1, Train Loss: 0.0599, Val Loss: 0.0489\n",
      "Epoch 2, Train Loss: 0.0471, Val Loss: 0.0433\n",
      "Epoch 3, Train Loss: 0.0427, Val Loss: 0.0406\n",
      "Epoch 4, Train Loss: 0.0401, Val Loss: 0.0389\n",
      "Epoch 5, Train Loss: 0.0381, Val Loss: 0.0377\n",
      "Epoch 6, Train Loss: 0.0367, Val Loss: 0.0369\n",
      "Epoch 7, Train Loss: 0.0354, Val Loss: 0.0364\n",
      "Epoch 8, Train Loss: 0.0344, Val Loss: 0.0359\n",
      "Epoch 9, Train Loss: 0.0335, Val Loss: 0.0357\n",
      "Epoch 10, Train Loss: 0.0327, Val Loss: 0.0355\n"
     ]
    }
   ],
   "source": [
    "for epoch in range(EPOCHS):\n",
    "    train_loss = 0.0\n",
    "    val_loss = 0.0\n",
    "    model.train()\n",
    "    for i in range(train_size):\n",
    "\n",
    "        x,mask,y = dataset[i]  \n",
    "        \n",
    "        x = torch.tensor(x,dtype=torch.float32)\n",
    "\n",
    "        y = torch.tensor(y,dtype=torch.long)    \n",
    "        optimizer.zero_grad()\n",
    "        output = model(x)\n",
    "\n",
    "        loss = criterion(output.view(-1,dataset.classes.shape[0]+1), y.view(-1))\n",
    "        loss.backward()\n",
    "        # print(loss.item())\n",
    "        optimizer.step()\n",
    "        train_loss += loss.item()\n",
    "        # print(output[0])\n",
    "    #     print(output[0].argmax(1))\n",
    "    #     break\n",
    "    # break\n",
    "    train_loss /= train_size\n",
    "    model.eval()\n",
    "\n",
    "    with torch.no_grad():\n",
    "        for i in range(train_size,len(dataset)):\n",
    "            x,mask, y = dataset[i]\n",
    "            \n",
    "            x = torch.tensor(x)\n",
    "            y = torch.tensor(y,dtype=torch.long)    \n",
    "            output = model(x)\n",
    "            loss = criterion(output.view(-1,dataset.classes.shape[0]+1), y.view(-1))\n",
    "            val_loss += loss.item()\n",
    "        val_loss /= len(dataset)-train_size\n",
    "\n",
    "    print(f\"Epoch {epoch+1}, Train Loss: {train_loss:.4f}, Val Loss: {val_loss:.4f}\")"
   ]
  },
  {
   "cell_type": "code",
   "execution_count": 194,
   "metadata": {},
   "outputs": [
    {
     "data": {
      "text/plain": [
       "tensor(0.9890)"
      ]
     },
     "execution_count": 194,
     "metadata": {},
     "output_type": "execute_result"
    }
   ],
   "source": [
    "acc = 0\n",
    "for i in range(train_size,len(dataset)):\n",
    "    x,mask, y = dataset[i]\n",
    "    \n",
    "    x = torch.tensor(x)\n",
    "    y = torch.tensor(y,dtype=torch.long)    \n",
    "    output = model(x)\n",
    "    acc += torch.sum(torch.argmax(output,2) == y)/(y.shape[0]*y.shape[1])\n",
    "    val_loss += loss.item()\n",
    "acc / (len(dataset)-train_size)"
   ]
  }
 ],
 "metadata": {
  "kernelspec": {
   "display_name": "Python 3",
   "language": "python",
   "name": "python3"
  },
  "language_info": {
   "codemirror_mode": {
    "name": "ipython",
    "version": 3
   },
   "file_extension": ".py",
   "mimetype": "text/x-python",
   "name": "python",
   "nbconvert_exporter": "python",
   "pygments_lexer": "ipython3",
   "version": "3.11.6"
  }
 },
 "nbformat": 4,
 "nbformat_minor": 2
}
